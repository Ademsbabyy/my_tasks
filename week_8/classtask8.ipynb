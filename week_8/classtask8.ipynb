{
 "cells": [
  {
   "cell_type": "code",
   "execution_count": 128,
   "id": "f19ae7eb",
   "metadata": {},
   "outputs": [],
   "source": [
    "# importing our libraries\n",
    "\n",
    "import numpy as np\n",
    "import pandas as pd\n",
    "import matplotlib.pyplot as plt\n",
    "\n",
    "import seaborn as sns\n"
   ]
  },
  {
   "cell_type": "markdown",
   "id": "cad7c26b",
   "metadata": {},
   "source": [
    "### 1. Data Injection"
   ]
  },
  {
   "cell_type": "code",
   "execution_count": null,
   "id": "81226849",
   "metadata": {},
   "outputs": [
    {
     "data": {
      "text/html": [
       "<div>\n",
       "<style scoped>\n",
       "    .dataframe tbody tr th:only-of-type {\n",
       "        vertical-align: middle;\n",
       "    }\n",
       "\n",
       "    .dataframe tbody tr th {\n",
       "        vertical-align: top;\n",
       "    }\n",
       "\n",
       "    .dataframe thead th {\n",
       "        text-align: right;\n",
       "    }\n",
       "</style>\n",
       "<table border=\"1\" class=\"dataframe\">\n",
       "  <thead>\n",
       "    <tr style=\"text-align: right;\">\n",
       "      <th></th>\n",
       "      <th>case</th>\n",
       "      <th>site</th>\n",
       "      <th>Pop</th>\n",
       "      <th>sex</th>\n",
       "      <th>age</th>\n",
       "      <th>hdlngth</th>\n",
       "      <th>skullw</th>\n",
       "      <th>totlngth</th>\n",
       "      <th>taill</th>\n",
       "      <th>footlgth</th>\n",
       "      <th>earconch</th>\n",
       "      <th>eye</th>\n",
       "      <th>chest</th>\n",
       "      <th>belly</th>\n",
       "    </tr>\n",
       "  </thead>\n",
       "  <tbody>\n",
       "    <tr>\n",
       "      <th>0</th>\n",
       "      <td>1</td>\n",
       "      <td>1</td>\n",
       "      <td>Vic</td>\n",
       "      <td>m</td>\n",
       "      <td>8.0</td>\n",
       "      <td>94.1</td>\n",
       "      <td>60.4</td>\n",
       "      <td>89.0</td>\n",
       "      <td>36.0</td>\n",
       "      <td>74.5</td>\n",
       "      <td>54.5</td>\n",
       "      <td>15.2</td>\n",
       "      <td>28.0</td>\n",
       "      <td>36.0</td>\n",
       "    </tr>\n",
       "    <tr>\n",
       "      <th>1</th>\n",
       "      <td>2</td>\n",
       "      <td>1</td>\n",
       "      <td>Vic</td>\n",
       "      <td>f</td>\n",
       "      <td>6.0</td>\n",
       "      <td>92.5</td>\n",
       "      <td>57.6</td>\n",
       "      <td>91.5</td>\n",
       "      <td>36.5</td>\n",
       "      <td>72.5</td>\n",
       "      <td>51.2</td>\n",
       "      <td>16.0</td>\n",
       "      <td>28.5</td>\n",
       "      <td>33.0</td>\n",
       "    </tr>\n",
       "    <tr>\n",
       "      <th>2</th>\n",
       "      <td>3</td>\n",
       "      <td>1</td>\n",
       "      <td>Vic</td>\n",
       "      <td>f</td>\n",
       "      <td>6.0</td>\n",
       "      <td>94.0</td>\n",
       "      <td>60.0</td>\n",
       "      <td>95.5</td>\n",
       "      <td>39.0</td>\n",
       "      <td>75.4</td>\n",
       "      <td>51.9</td>\n",
       "      <td>15.5</td>\n",
       "      <td>30.0</td>\n",
       "      <td>34.0</td>\n",
       "    </tr>\n",
       "    <tr>\n",
       "      <th>3</th>\n",
       "      <td>4</td>\n",
       "      <td>1</td>\n",
       "      <td>Vic</td>\n",
       "      <td>f</td>\n",
       "      <td>6.0</td>\n",
       "      <td>93.2</td>\n",
       "      <td>57.1</td>\n",
       "      <td>92.0</td>\n",
       "      <td>38.0</td>\n",
       "      <td>76.1</td>\n",
       "      <td>52.2</td>\n",
       "      <td>15.2</td>\n",
       "      <td>28.0</td>\n",
       "      <td>34.0</td>\n",
       "    </tr>\n",
       "    <tr>\n",
       "      <th>4</th>\n",
       "      <td>5</td>\n",
       "      <td>1</td>\n",
       "      <td>Vic</td>\n",
       "      <td>f</td>\n",
       "      <td>2.0</td>\n",
       "      <td>91.5</td>\n",
       "      <td>56.3</td>\n",
       "      <td>85.5</td>\n",
       "      <td>36.0</td>\n",
       "      <td>71.0</td>\n",
       "      <td>53.2</td>\n",
       "      <td>15.1</td>\n",
       "      <td>28.5</td>\n",
       "      <td>33.0</td>\n",
       "    </tr>\n",
       "  </tbody>\n",
       "</table>\n",
       "</div>"
      ],
      "text/plain": [
       "   case  site  Pop sex  age  hdlngth  skullw  totlngth  taill  footlgth  \\\n",
       "0     1     1  Vic   m  8.0     94.1    60.4      89.0   36.0      74.5   \n",
       "1     2     1  Vic   f  6.0     92.5    57.6      91.5   36.5      72.5   \n",
       "2     3     1  Vic   f  6.0     94.0    60.0      95.5   39.0      75.4   \n",
       "3     4     1  Vic   f  6.0     93.2    57.1      92.0   38.0      76.1   \n",
       "4     5     1  Vic   f  2.0     91.5    56.3      85.5   36.0      71.0   \n",
       "\n",
       "   earconch   eye  chest  belly  \n",
       "0      54.5  15.2   28.0   36.0  \n",
       "1      51.2  16.0   28.5   33.0  \n",
       "2      51.9  15.5   30.0   34.0  \n",
       "3      52.2  15.2   28.0   34.0  \n",
       "4      53.2  15.1   28.5   33.0  "
      ]
     },
     "execution_count": 59,
     "metadata": {},
     "output_type": "execute_result"
    }
   ],
   "source": [
    "# Loading our datasets\n",
    "\n",
    "possumss = pd.read_csv(\"possum.csv\")\n",
    "possumss.head()\n"
   ]
  },
  {
   "cell_type": "code",
   "execution_count": 60,
   "id": "42383bd5",
   "metadata": {},
   "outputs": [],
   "source": [
    "# Creating a copy\n",
    "possums = possumss.copy()"
   ]
  },
  {
   "cell_type": "markdown",
   "id": "c04bfe34",
   "metadata": {},
   "source": [
    "### 2. PDA (Preliminry data Analysis)"
   ]
  },
  {
   "cell_type": "code",
   "execution_count": 61,
   "id": "72f60211",
   "metadata": {},
   "outputs": [
    {
     "name": "stdout",
     "output_type": "stream",
     "text": [
      "Shape : (104, 14)\n"
     ]
    }
   ],
   "source": [
    "# Let's get the shape of our datasets\n",
    "\n",
    "\n",
    "print(f\"Shape : {possums.shape}\")\n"
   ]
  },
  {
   "cell_type": "code",
   "execution_count": 62,
   "id": "72094345",
   "metadata": {},
   "outputs": [
    {
     "data": {
      "text/html": [
       "<div>\n",
       "<style scoped>\n",
       "    .dataframe tbody tr th:only-of-type {\n",
       "        vertical-align: middle;\n",
       "    }\n",
       "\n",
       "    .dataframe tbody tr th {\n",
       "        vertical-align: top;\n",
       "    }\n",
       "\n",
       "    .dataframe thead th {\n",
       "        text-align: right;\n",
       "    }\n",
       "</style>\n",
       "<table border=\"1\" class=\"dataframe\">\n",
       "  <thead>\n",
       "    <tr style=\"text-align: right;\">\n",
       "      <th></th>\n",
       "      <th>case</th>\n",
       "      <th>site</th>\n",
       "      <th>Pop</th>\n",
       "      <th>sex</th>\n",
       "      <th>age</th>\n",
       "      <th>hdlngth</th>\n",
       "      <th>skullw</th>\n",
       "      <th>totlngth</th>\n",
       "      <th>taill</th>\n",
       "      <th>footlgth</th>\n",
       "      <th>earconch</th>\n",
       "      <th>eye</th>\n",
       "      <th>chest</th>\n",
       "      <th>belly</th>\n",
       "    </tr>\n",
       "  </thead>\n",
       "  <tbody>\n",
       "    <tr>\n",
       "      <th>99</th>\n",
       "      <td>100</td>\n",
       "      <td>7</td>\n",
       "      <td>other</td>\n",
       "      <td>m</td>\n",
       "      <td>1.0</td>\n",
       "      <td>89.5</td>\n",
       "      <td>56.0</td>\n",
       "      <td>81.5</td>\n",
       "      <td>36.5</td>\n",
       "      <td>66.0</td>\n",
       "      <td>46.8</td>\n",
       "      <td>14.8</td>\n",
       "      <td>23.0</td>\n",
       "      <td>27.0</td>\n",
       "    </tr>\n",
       "    <tr>\n",
       "      <th>100</th>\n",
       "      <td>101</td>\n",
       "      <td>7</td>\n",
       "      <td>other</td>\n",
       "      <td>m</td>\n",
       "      <td>1.0</td>\n",
       "      <td>88.6</td>\n",
       "      <td>54.7</td>\n",
       "      <td>82.5</td>\n",
       "      <td>39.0</td>\n",
       "      <td>64.4</td>\n",
       "      <td>48.0</td>\n",
       "      <td>14.0</td>\n",
       "      <td>25.0</td>\n",
       "      <td>33.0</td>\n",
       "    </tr>\n",
       "    <tr>\n",
       "      <th>101</th>\n",
       "      <td>102</td>\n",
       "      <td>7</td>\n",
       "      <td>other</td>\n",
       "      <td>f</td>\n",
       "      <td>6.0</td>\n",
       "      <td>92.4</td>\n",
       "      <td>55.0</td>\n",
       "      <td>89.0</td>\n",
       "      <td>38.0</td>\n",
       "      <td>63.5</td>\n",
       "      <td>45.4</td>\n",
       "      <td>13.0</td>\n",
       "      <td>25.0</td>\n",
       "      <td>30.0</td>\n",
       "    </tr>\n",
       "    <tr>\n",
       "      <th>102</th>\n",
       "      <td>103</td>\n",
       "      <td>7</td>\n",
       "      <td>other</td>\n",
       "      <td>m</td>\n",
       "      <td>4.0</td>\n",
       "      <td>91.5</td>\n",
       "      <td>55.2</td>\n",
       "      <td>82.5</td>\n",
       "      <td>36.5</td>\n",
       "      <td>62.9</td>\n",
       "      <td>45.9</td>\n",
       "      <td>15.4</td>\n",
       "      <td>25.0</td>\n",
       "      <td>29.0</td>\n",
       "    </tr>\n",
       "    <tr>\n",
       "      <th>103</th>\n",
       "      <td>104</td>\n",
       "      <td>7</td>\n",
       "      <td>other</td>\n",
       "      <td>f</td>\n",
       "      <td>3.0</td>\n",
       "      <td>93.6</td>\n",
       "      <td>59.9</td>\n",
       "      <td>89.0</td>\n",
       "      <td>40.0</td>\n",
       "      <td>67.6</td>\n",
       "      <td>46.0</td>\n",
       "      <td>14.8</td>\n",
       "      <td>28.5</td>\n",
       "      <td>33.5</td>\n",
       "    </tr>\n",
       "  </tbody>\n",
       "</table>\n",
       "</div>"
      ],
      "text/plain": [
       "     case  site    Pop sex  age  hdlngth  skullw  totlngth  taill  footlgth  \\\n",
       "99    100     7  other   m  1.0     89.5    56.0      81.5   36.5      66.0   \n",
       "100   101     7  other   m  1.0     88.6    54.7      82.5   39.0      64.4   \n",
       "101   102     7  other   f  6.0     92.4    55.0      89.0   38.0      63.5   \n",
       "102   103     7  other   m  4.0     91.5    55.2      82.5   36.5      62.9   \n",
       "103   104     7  other   f  3.0     93.6    59.9      89.0   40.0      67.6   \n",
       "\n",
       "     earconch   eye  chest  belly  \n",
       "99       46.8  14.8   23.0   27.0  \n",
       "100      48.0  14.0   25.0   33.0  \n",
       "101      45.4  13.0   25.0   30.0  \n",
       "102      45.9  15.4   25.0   29.0  \n",
       "103      46.0  14.8   28.5   33.5  "
      ]
     },
     "execution_count": 62,
     "metadata": {},
     "output_type": "execute_result"
    }
   ],
   "source": [
    "possums.tail()"
   ]
  },
  {
   "cell_type": "code",
   "execution_count": 63,
   "id": "9b8d123b",
   "metadata": {},
   "outputs": [
    {
     "name": "stdout",
     "output_type": "stream",
     "text": [
      "<class 'pandas.core.frame.DataFrame'>\n",
      "RangeIndex: 104 entries, 0 to 103\n",
      "Data columns (total 14 columns):\n",
      " #   Column    Non-Null Count  Dtype  \n",
      "---  ------    --------------  -----  \n",
      " 0   case      104 non-null    int64  \n",
      " 1   site      104 non-null    int64  \n",
      " 2   Pop       104 non-null    object \n",
      " 3   sex       104 non-null    object \n",
      " 4   age       102 non-null    float64\n",
      " 5   hdlngth   104 non-null    float64\n",
      " 6   skullw    104 non-null    float64\n",
      " 7   totlngth  104 non-null    float64\n",
      " 8   taill     104 non-null    float64\n",
      " 9   footlgth  103 non-null    float64\n",
      " 10  earconch  104 non-null    float64\n",
      " 11  eye       104 non-null    float64\n",
      " 12  chest     104 non-null    float64\n",
      " 13  belly     104 non-null    float64\n",
      "dtypes: float64(10), int64(2), object(2)\n",
      "memory usage: 11.5+ KB\n"
     ]
    }
   ],
   "source": [
    "possums.info()"
   ]
  },
  {
   "cell_type": "code",
   "execution_count": 64,
   "id": "87b55346",
   "metadata": {},
   "outputs": [
    {
     "data": {
      "text/plain": [
       "Index(['case', 'site', 'Pop', 'sex', 'age', 'hdlngth', 'skullw', 'totlngth',\n",
       "       'taill', 'footlgth', 'earconch', 'eye', 'chest', 'belly'],\n",
       "      dtype='object')"
      ]
     },
     "execution_count": 64,
     "metadata": {},
     "output_type": "execute_result"
    }
   ],
   "source": [
    "possums.columns"
   ]
  },
  {
   "cell_type": "code",
   "execution_count": 92,
   "id": "c0c157cf",
   "metadata": {},
   "outputs": [],
   "source": [
    "possums['age']=possums['age'].round()"
   ]
  },
  {
   "cell_type": "code",
   "execution_count": 93,
   "id": "8880474e",
   "metadata": {},
   "outputs": [
    {
     "data": {
      "text/plain": [
       "age\n",
       "3.0    27\n",
       "4.0    16\n",
       "2.0    16\n",
       "5.0    13\n",
       "6.0    12\n",
       "1.0    10\n",
       "7.0     7\n",
       "9.0     2\n",
       "8.0     1\n",
       "Name: count, dtype: int64"
      ]
     },
     "execution_count": 93,
     "metadata": {},
     "output_type": "execute_result"
    }
   ],
   "source": [
    "possums['age'].value_counts().round(2)"
   ]
  },
  {
   "cell_type": "code",
   "execution_count": 94,
   "id": "ee81a74e",
   "metadata": {},
   "outputs": [
    {
     "data": {
      "image/png": "[encoded data removed]",
      "text/plain": [
       "<Figure size 640x480 with 1 Axes>"
      ]
     },
     "metadata": {},
     "output_type": "display_data"
    }
   ],
   "source": [
    "# Let's visualize this \n",
    "possums['age'].sort_values(ascending=False).value_counts().plot(kind='bar',color='green')\n",
    "plt.xlabel('Age')\n",
    "plt.ylabel('Frequency of age')\n",
    "plt.xticks(rotation=45)\n",
    "plt.show()"
   ]
  },
  {
   "cell_type": "markdown",
   "id": "49c6a154",
   "metadata": {},
   "source": [
    "#### Cleaning our datasets"
   ]
  },
  {
   "cell_type": "code",
   "execution_count": 95,
   "id": "740670c2",
   "metadata": {},
   "outputs": [
    {
     "data": {
      "text/plain": [
       "case        0\n",
       "site        0\n",
       "Pop         0\n",
       "sex         0\n",
       "age         0\n",
       "hdlngth     0\n",
       "skullw      0\n",
       "totlngth    0\n",
       "taill       0\n",
       "footlgth    0\n",
       "earconch    0\n",
       "eye         0\n",
       "chest       0\n",
       "belly       0\n",
       "dtype: int64"
      ]
     },
     "execution_count": 95,
     "metadata": {},
     "output_type": "execute_result"
    }
   ],
   "source": [
    "possums.isnull()\n",
    "possums.isnull().sum()"
   ]
  },
  {
   "cell_type": "markdown",
   "id": "7ef7be38",
   "metadata": {},
   "source": [
    "It can be seen that the age has 2 null values and the footlength has 2 null values . Filling both with their means."
   ]
  },
  {
   "cell_type": "code",
   "execution_count": null,
   "id": "43abf5d5",
   "metadata": {},
   "outputs": [],
   "source": [
    "# Filling missing values\n",
    "\n",
    "possums['age'].fillna(possums['age'].mean(),inplace=True)\n",
    "possums.isna().sum()"
   ]
  },
  {
   "cell_type": "code",
   "execution_count": null,
   "id": "fce44374",
   "metadata": {},
   "outputs": [],
   "source": [
    "\n",
    "possums['footlgth'].fillna(possums['footlgth'].mean(),inplace=True)\n",
    "possums.isna().sum()"
   ]
  },
  {
   "cell_type": "code",
   "execution_count": 78,
   "id": "fae69d38",
   "metadata": {},
   "outputs": [
    {
     "data": {
      "text/plain": [
       "(104, 14)"
      ]
     },
     "execution_count": 78,
     "metadata": {},
     "output_type": "execute_result"
    }
   ],
   "source": [
    "possums.shape"
   ]
  },
  {
   "cell_type": "code",
   "execution_count": 79,
   "id": "7b65dd9e",
   "metadata": {},
   "outputs": [
    {
     "data": {
      "text/plain": [
       "case        0\n",
       "site        0\n",
       "Pop         0\n",
       "sex         0\n",
       "age         0\n",
       "hdlngth     0\n",
       "skullw      0\n",
       "totlngth    0\n",
       "taill       0\n",
       "footlgth    0\n",
       "earconch    0\n",
       "eye         0\n",
       "chest       0\n",
       "belly       0\n",
       "dtype: int64"
      ]
     },
     "execution_count": 79,
     "metadata": {},
     "output_type": "execute_result"
    }
   ],
   "source": [
    "possums.isnull().sum()"
   ]
  },
  {
   "cell_type": "code",
   "execution_count": 80,
   "id": "2f7adf62",
   "metadata": {},
   "outputs": [
    {
     "name": "stdout",
     "output_type": "stream",
     "text": [
      "0\n"
     ]
    }
   ],
   "source": [
    "print(possums.duplicated().sum())"
   ]
  },
  {
   "cell_type": "markdown",
   "id": "11c19f5b",
   "metadata": {},
   "source": [
    "There are no duplicated values "
   ]
  },
  {
   "cell_type": "code",
   "execution_count": null,
   "id": "6bac8801",
   "metadata": {},
   "outputs": [],
   "source": []
  },
  {
   "cell_type": "code",
   "execution_count": 81,
   "id": "9c775b54",
   "metadata": {},
   "outputs": [
    {
     "data": {
      "text/plain": [
       "case        104\n",
       "site          7\n",
       "Pop           2\n",
       "sex           2\n",
       "age          10\n",
       "hdlngth      71\n",
       "skullw       64\n",
       "totlngth     34\n",
       "taill        19\n",
       "footlgth     76\n",
       "earconch     69\n",
       "eye          35\n",
       "chest        19\n",
       "belly        24\n",
       "dtype: int64"
      ]
     },
     "execution_count": 81,
     "metadata": {},
     "output_type": "execute_result"
    }
   ],
   "source": [
    "# Lets check our unique sets\n",
    "\n",
    "possums.nunique()"
   ]
  },
  {
   "cell_type": "code",
   "execution_count": 83,
   "id": "27a2b336",
   "metadata": {},
   "outputs": [
    {
     "data": {
      "image/png": "[encoded data removed]",
      "text/plain": [
       "<Figure size 640x480 with 1 Axes>"
      ]
     },
     "metadata": {},
     "output_type": "display_data"
    }
   ],
   "source": [
    "# Let's visualize this \n",
    "possums.nunique().sort_values(ascending=False).plot(kind='bar')\n",
    "plt.xlabel('Features of the possums')\n",
    "plt.ylabel('Value')\n",
    "plt.xticks(rotation=45)\n",
    "plt.show()"
   ]
  },
  {
   "cell_type": "code",
   "execution_count": 96,
   "id": "47c103f6",
   "metadata": {},
   "outputs": [
    {
     "name": "stdout",
     "output_type": "stream",
     "text": [
      "<class 'pandas.core.frame.DataFrame'>\n",
      "RangeIndex: 104 entries, 0 to 103\n",
      "Data columns (total 14 columns):\n",
      " #   Column    Non-Null Count  Dtype  \n",
      "---  ------    --------------  -----  \n",
      " 0   case      104 non-null    int64  \n",
      " 1   site      104 non-null    int64  \n",
      " 2   Pop       104 non-null    object \n",
      " 3   sex       104 non-null    object \n",
      " 4   age       104 non-null    float64\n",
      " 5   hdlngth   104 non-null    float64\n",
      " 6   skullw    104 non-null    float64\n",
      " 7   totlngth  104 non-null    float64\n",
      " 8   taill     104 non-null    float64\n",
      " 9   footlgth  104 non-null    float64\n",
      " 10  earconch  104 non-null    float64\n",
      " 11  eye       104 non-null    float64\n",
      " 12  chest     104 non-null    float64\n",
      " 13  belly     104 non-null    float64\n",
      "dtypes: float64(10), int64(2), object(2)\n",
      "memory usage: 11.5+ KB\n"
     ]
    }
   ],
   "source": [
    "# Let's get the information about our datasets\n",
    "\n",
    "possums.info()"
   ]
  },
  {
   "cell_type": "markdown",
   "id": "f0aa2925",
   "metadata": {},
   "source": [
    "#### 4. DDA. Descriptive Data Analysis"
   ]
  },
  {
   "cell_type": "code",
   "execution_count": 84,
   "id": "a40f4a0f",
   "metadata": {},
   "outputs": [
    {
     "data": {
      "text/html": [
       "<div>\n",
       "<style scoped>\n",
       "    .dataframe tbody tr th:only-of-type {\n",
       "        vertical-align: middle;\n",
       "    }\n",
       "\n",
       "    .dataframe tbody tr th {\n",
       "        vertical-align: top;\n",
       "    }\n",
       "\n",
       "    .dataframe thead th {\n",
       "        text-align: right;\n",
       "    }\n",
       "</style>\n",
       "<table border=\"1\" class=\"dataframe\">\n",
       "  <thead>\n",
       "    <tr style=\"text-align: right;\">\n",
       "      <th></th>\n",
       "      <th>case</th>\n",
       "      <th>site</th>\n",
       "      <th>age</th>\n",
       "      <th>hdlngth</th>\n",
       "      <th>skullw</th>\n",
       "      <th>totlngth</th>\n",
       "      <th>taill</th>\n",
       "      <th>footlgth</th>\n",
       "      <th>earconch</th>\n",
       "      <th>eye</th>\n",
       "      <th>chest</th>\n",
       "      <th>belly</th>\n",
       "    </tr>\n",
       "  </thead>\n",
       "  <tbody>\n",
       "    <tr>\n",
       "      <th>count</th>\n",
       "      <td>104.000000</td>\n",
       "      <td>104.000000</td>\n",
       "      <td>104.000000</td>\n",
       "      <td>104.000000</td>\n",
       "      <td>104.000000</td>\n",
       "      <td>104.000000</td>\n",
       "      <td>104.000000</td>\n",
       "      <td>104.000000</td>\n",
       "      <td>104.000000</td>\n",
       "      <td>104.000000</td>\n",
       "      <td>104.000000</td>\n",
       "      <td>104.000000</td>\n",
       "    </tr>\n",
       "    <tr>\n",
       "      <th>mean</th>\n",
       "      <td>52.500000</td>\n",
       "      <td>3.625000</td>\n",
       "      <td>3.833333</td>\n",
       "      <td>92.602885</td>\n",
       "      <td>56.883654</td>\n",
       "      <td>87.088462</td>\n",
       "      <td>37.009615</td>\n",
       "      <td>68.459223</td>\n",
       "      <td>48.130769</td>\n",
       "      <td>15.046154</td>\n",
       "      <td>27.000000</td>\n",
       "      <td>32.586538</td>\n",
       "    </tr>\n",
       "    <tr>\n",
       "      <th>std</th>\n",
       "      <td>30.166206</td>\n",
       "      <td>2.349086</td>\n",
       "      <td>1.890617</td>\n",
       "      <td>3.573349</td>\n",
       "      <td>3.113426</td>\n",
       "      <td>4.310549</td>\n",
       "      <td>1.959518</td>\n",
       "      <td>4.373917</td>\n",
       "      <td>4.109380</td>\n",
       "      <td>1.050374</td>\n",
       "      <td>2.045597</td>\n",
       "      <td>2.761949</td>\n",
       "    </tr>\n",
       "    <tr>\n",
       "      <th>min</th>\n",
       "      <td>1.000000</td>\n",
       "      <td>1.000000</td>\n",
       "      <td>1.000000</td>\n",
       "      <td>82.500000</td>\n",
       "      <td>50.000000</td>\n",
       "      <td>75.000000</td>\n",
       "      <td>32.000000</td>\n",
       "      <td>60.300000</td>\n",
       "      <td>40.300000</td>\n",
       "      <td>12.800000</td>\n",
       "      <td>22.000000</td>\n",
       "      <td>25.000000</td>\n",
       "    </tr>\n",
       "    <tr>\n",
       "      <th>25%</th>\n",
       "      <td>26.750000</td>\n",
       "      <td>1.000000</td>\n",
       "      <td>2.750000</td>\n",
       "      <td>90.675000</td>\n",
       "      <td>54.975000</td>\n",
       "      <td>84.000000</td>\n",
       "      <td>35.875000</td>\n",
       "      <td>64.650000</td>\n",
       "      <td>44.800000</td>\n",
       "      <td>14.400000</td>\n",
       "      <td>25.500000</td>\n",
       "      <td>31.000000</td>\n",
       "    </tr>\n",
       "    <tr>\n",
       "      <th>50%</th>\n",
       "      <td>52.500000</td>\n",
       "      <td>3.000000</td>\n",
       "      <td>3.000000</td>\n",
       "      <td>92.800000</td>\n",
       "      <td>56.350000</td>\n",
       "      <td>88.000000</td>\n",
       "      <td>37.000000</td>\n",
       "      <td>68.100000</td>\n",
       "      <td>46.800000</td>\n",
       "      <td>14.900000</td>\n",
       "      <td>27.000000</td>\n",
       "      <td>32.500000</td>\n",
       "    </tr>\n",
       "    <tr>\n",
       "      <th>75%</th>\n",
       "      <td>78.250000</td>\n",
       "      <td>6.000000</td>\n",
       "      <td>5.000000</td>\n",
       "      <td>94.725000</td>\n",
       "      <td>58.100000</td>\n",
       "      <td>90.000000</td>\n",
       "      <td>38.000000</td>\n",
       "      <td>72.500000</td>\n",
       "      <td>52.000000</td>\n",
       "      <td>15.725000</td>\n",
       "      <td>28.000000</td>\n",
       "      <td>34.125000</td>\n",
       "    </tr>\n",
       "    <tr>\n",
       "      <th>max</th>\n",
       "      <td>104.000000</td>\n",
       "      <td>7.000000</td>\n",
       "      <td>9.000000</td>\n",
       "      <td>103.100000</td>\n",
       "      <td>68.600000</td>\n",
       "      <td>96.500000</td>\n",
       "      <td>43.000000</td>\n",
       "      <td>77.900000</td>\n",
       "      <td>56.200000</td>\n",
       "      <td>17.800000</td>\n",
       "      <td>32.000000</td>\n",
       "      <td>40.000000</td>\n",
       "    </tr>\n",
       "  </tbody>\n",
       "</table>\n",
       "</div>"
      ],
      "text/plain": [
       "             case        site         age     hdlngth      skullw    totlngth  \\\n",
       "count  104.000000  104.000000  104.000000  104.000000  104.000000  104.000000   \n",
       "mean    52.500000    3.625000    3.833333   92.602885   56.883654   87.088462   \n",
       "std     30.166206    2.349086    1.890617    3.573349    3.113426    4.310549   \n",
       "min      1.000000    1.000000    1.000000   82.500000   50.000000   75.000000   \n",
       "25%     26.750000    1.000000    2.750000   90.675000   54.975000   84.000000   \n",
       "50%     52.500000    3.000000    3.000000   92.800000   56.350000   88.000000   \n",
       "75%     78.250000    6.000000    5.000000   94.725000   58.100000   90.000000   \n",
       "max    104.000000    7.000000    9.000000  103.100000   68.600000   96.500000   \n",
       "\n",
       "            taill    footlgth    earconch         eye       chest       belly  \n",
       "count  104.000000  104.000000  104.000000  104.000000  104.000000  104.000000  \n",
       "mean    37.009615   68.459223   48.130769   15.046154   27.000000   32.586538  \n",
       "std      1.959518    4.373917    4.109380    1.050374    2.045597    2.761949  \n",
       "min     32.000000   60.300000   40.300000   12.800000   22.000000   25.000000  \n",
       "25%     35.875000   64.650000   44.800000   14.400000   25.500000   31.000000  \n",
       "50%     37.000000   68.100000   46.800000   14.900000   27.000000   32.500000  \n",
       "75%     38.000000   72.500000   52.000000   15.725000   28.000000   34.125000  \n",
       "max     43.000000   77.900000   56.200000   17.800000   32.000000   40.000000  "
      ]
     },
     "execution_count": 84,
     "metadata": {},
     "output_type": "execute_result"
    }
   ],
   "source": [
    "# Let's get the statistical description of our datasets\n",
    "\n",
    "possums.describe()"
   ]
  },
  {
   "cell_type": "markdown",
   "id": "dcc34bfb",
   "metadata": {},
   "source": [
    "#### Let's sort our data into male,female and perform some analysis ."
   ]
  },
  {
   "cell_type": "code",
   "execution_count": 112,
   "id": "ac6e3eb6",
   "metadata": {},
   "outputs": [
    {
     "data": {
      "text/plain": [
       "sex\n",
       "m    61\n",
       "f    43\n",
       "Name: count, dtype: int64"
      ]
     },
     "execution_count": 112,
     "metadata": {},
     "output_type": "execute_result"
    }
   ],
   "source": [
    "possums['sex'].value_counts()"
   ]
  },
  {
   "cell_type": "markdown",
   "id": "b91913be",
   "metadata": {},
   "source": [
    "There are 61 males and 43 females in our data"
   ]
  },
  {
   "cell_type": "code",
   "execution_count": 107,
   "id": "84b31242",
   "metadata": {},
   "outputs": [],
   "source": [
    "# Let's sort our data into male,female and perform some analysis .\n",
    "\n",
    "male = possums[possums['sex'] == 'm']\n",
    "female = possums[possums['sex'] == 'f']\n",
    "\n"
   ]
  },
  {
   "cell_type": "code",
   "execution_count": 108,
   "id": "c1611c13",
   "metadata": {},
   "outputs": [
    {
     "data": {
      "text/html": [
       "<div>\n",
       "<style scoped>\n",
       "    .dataframe tbody tr th:only-of-type {\n",
       "        vertical-align: middle;\n",
       "    }\n",
       "\n",
       "    .dataframe tbody tr th {\n",
       "        vertical-align: top;\n",
       "    }\n",
       "\n",
       "    .dataframe thead th {\n",
       "        text-align: right;\n",
       "    }\n",
       "</style>\n",
       "<table border=\"1\" class=\"dataframe\">\n",
       "  <thead>\n",
       "    <tr style=\"text-align: right;\">\n",
       "      <th></th>\n",
       "      <th>case</th>\n",
       "      <th>site</th>\n",
       "      <th>Pop</th>\n",
       "      <th>sex</th>\n",
       "      <th>age</th>\n",
       "      <th>hdlngth</th>\n",
       "      <th>skullw</th>\n",
       "      <th>totlngth</th>\n",
       "      <th>taill</th>\n",
       "      <th>footlgth</th>\n",
       "      <th>earconch</th>\n",
       "      <th>eye</th>\n",
       "      <th>chest</th>\n",
       "      <th>belly</th>\n",
       "    </tr>\n",
       "  </thead>\n",
       "  <tbody>\n",
       "    <tr>\n",
       "      <th>0</th>\n",
       "      <td>1</td>\n",
       "      <td>1</td>\n",
       "      <td>Vic</td>\n",
       "      <td>m</td>\n",
       "      <td>8.0</td>\n",
       "      <td>94.1</td>\n",
       "      <td>60.4</td>\n",
       "      <td>89.0</td>\n",
       "      <td>36.0</td>\n",
       "      <td>74.5</td>\n",
       "      <td>54.5</td>\n",
       "      <td>15.2</td>\n",
       "      <td>28.0</td>\n",
       "      <td>36.0</td>\n",
       "    </tr>\n",
       "    <tr>\n",
       "      <th>6</th>\n",
       "      <td>7</td>\n",
       "      <td>1</td>\n",
       "      <td>Vic</td>\n",
       "      <td>m</td>\n",
       "      <td>2.0</td>\n",
       "      <td>95.3</td>\n",
       "      <td>58.2</td>\n",
       "      <td>89.5</td>\n",
       "      <td>36.0</td>\n",
       "      <td>71.5</td>\n",
       "      <td>52.0</td>\n",
       "      <td>14.2</td>\n",
       "      <td>30.0</td>\n",
       "      <td>34.5</td>\n",
       "    </tr>\n",
       "    <tr>\n",
       "      <th>12</th>\n",
       "      <td>13</td>\n",
       "      <td>1</td>\n",
       "      <td>Vic</td>\n",
       "      <td>m</td>\n",
       "      <td>5.0</td>\n",
       "      <td>95.1</td>\n",
       "      <td>59.9</td>\n",
       "      <td>89.5</td>\n",
       "      <td>36.0</td>\n",
       "      <td>71.0</td>\n",
       "      <td>49.8</td>\n",
       "      <td>15.8</td>\n",
       "      <td>27.0</td>\n",
       "      <td>32.0</td>\n",
       "    </tr>\n",
       "    <tr>\n",
       "      <th>13</th>\n",
       "      <td>14</td>\n",
       "      <td>1</td>\n",
       "      <td>Vic</td>\n",
       "      <td>m</td>\n",
       "      <td>3.0</td>\n",
       "      <td>95.4</td>\n",
       "      <td>57.6</td>\n",
       "      <td>91.5</td>\n",
       "      <td>36.0</td>\n",
       "      <td>74.3</td>\n",
       "      <td>53.7</td>\n",
       "      <td>15.1</td>\n",
       "      <td>28.0</td>\n",
       "      <td>31.5</td>\n",
       "    </tr>\n",
       "    <tr>\n",
       "      <th>14</th>\n",
       "      <td>15</td>\n",
       "      <td>1</td>\n",
       "      <td>Vic</td>\n",
       "      <td>m</td>\n",
       "      <td>5.0</td>\n",
       "      <td>92.9</td>\n",
       "      <td>57.6</td>\n",
       "      <td>85.5</td>\n",
       "      <td>34.0</td>\n",
       "      <td>69.7</td>\n",
       "      <td>51.8</td>\n",
       "      <td>15.7</td>\n",
       "      <td>28.0</td>\n",
       "      <td>35.0</td>\n",
       "    </tr>\n",
       "  </tbody>\n",
       "</table>\n",
       "</div>"
      ],
      "text/plain": [
       "    case  site  Pop sex  age  hdlngth  skullw  totlngth  taill  footlgth  \\\n",
       "0      1     1  Vic   m  8.0     94.1    60.4      89.0   36.0      74.5   \n",
       "6      7     1  Vic   m  2.0     95.3    58.2      89.5   36.0      71.5   \n",
       "12    13     1  Vic   m  5.0     95.1    59.9      89.5   36.0      71.0   \n",
       "13    14     1  Vic   m  3.0     95.4    57.6      91.5   36.0      74.3   \n",
       "14    15     1  Vic   m  5.0     92.9    57.6      85.5   34.0      69.7   \n",
       "\n",
       "    earconch   eye  chest  belly  \n",
       "0       54.5  15.2   28.0   36.0  \n",
       "6       52.0  14.2   30.0   34.5  \n",
       "12      49.8  15.8   27.0   32.0  \n",
       "13      53.7  15.1   28.0   31.5  \n",
       "14      51.8  15.7   28.0   35.0  "
      ]
     },
     "execution_count": 108,
     "metadata": {},
     "output_type": "execute_result"
    }
   ],
   "source": [
    "male.head()"
   ]
  },
  {
   "cell_type": "code",
   "execution_count": 110,
   "id": "3f773c30",
   "metadata": {},
   "outputs": [
    {
     "data": {
      "text/html": [
       "<div>\n",
       "<style scoped>\n",
       "    .dataframe tbody tr th:only-of-type {\n",
       "        vertical-align: middle;\n",
       "    }\n",
       "\n",
       "    .dataframe tbody tr th {\n",
       "        vertical-align: top;\n",
       "    }\n",
       "\n",
       "    .dataframe thead th {\n",
       "        text-align: right;\n",
       "    }\n",
       "</style>\n",
       "<table border=\"1\" class=\"dataframe\">\n",
       "  <thead>\n",
       "    <tr style=\"text-align: right;\">\n",
       "      <th></th>\n",
       "      <th>case</th>\n",
       "      <th>site</th>\n",
       "      <th>age</th>\n",
       "      <th>hdlngth</th>\n",
       "      <th>skullw</th>\n",
       "      <th>totlngth</th>\n",
       "      <th>taill</th>\n",
       "      <th>footlgth</th>\n",
       "      <th>earconch</th>\n",
       "      <th>eye</th>\n",
       "      <th>chest</th>\n",
       "      <th>belly</th>\n",
       "    </tr>\n",
       "  </thead>\n",
       "  <tbody>\n",
       "    <tr>\n",
       "      <th>count</th>\n",
       "      <td>61.000000</td>\n",
       "      <td>61.000000</td>\n",
       "      <td>61.000000</td>\n",
       "      <td>61.000000</td>\n",
       "      <td>61.000000</td>\n",
       "      <td>61.000000</td>\n",
       "      <td>61.000000</td>\n",
       "      <td>61.000000</td>\n",
       "      <td>61.000000</td>\n",
       "      <td>61.000000</td>\n",
       "      <td>61.000000</td>\n",
       "      <td>61.000000</td>\n",
       "    </tr>\n",
       "    <tr>\n",
       "      <th>mean</th>\n",
       "      <td>58.901639</td>\n",
       "      <td>4.081967</td>\n",
       "      <td>3.737705</td>\n",
       "      <td>92.922951</td>\n",
       "      <td>57.091803</td>\n",
       "      <td>86.511475</td>\n",
       "      <td>36.942623</td>\n",
       "      <td>68.009836</td>\n",
       "      <td>47.816393</td>\n",
       "      <td>15.211475</td>\n",
       "      <td>26.762295</td>\n",
       "      <td>32.377049</td>\n",
       "    </tr>\n",
       "    <tr>\n",
       "      <th>std</th>\n",
       "      <td>28.639544</td>\n",
       "      <td>2.347304</td>\n",
       "      <td>1.861018</td>\n",
       "      <td>4.126354</td>\n",
       "      <td>3.451777</td>\n",
       "      <td>4.339896</td>\n",
       "      <td>2.057706</td>\n",
       "      <td>3.981905</td>\n",
       "      <td>3.994587</td>\n",
       "      <td>1.041169</td>\n",
       "      <td>2.161417</td>\n",
       "      <td>2.642057</td>\n",
       "    </tr>\n",
       "    <tr>\n",
       "      <th>min</th>\n",
       "      <td>1.000000</td>\n",
       "      <td>1.000000</td>\n",
       "      <td>1.000000</td>\n",
       "      <td>82.500000</td>\n",
       "      <td>50.000000</td>\n",
       "      <td>76.000000</td>\n",
       "      <td>32.000000</td>\n",
       "      <td>62.000000</td>\n",
       "      <td>41.700000</td>\n",
       "      <td>12.800000</td>\n",
       "      <td>22.000000</td>\n",
       "      <td>27.000000</td>\n",
       "    </tr>\n",
       "    <tr>\n",
       "      <th>25%</th>\n",
       "      <td>35.000000</td>\n",
       "      <td>2.000000</td>\n",
       "      <td>2.000000</td>\n",
       "      <td>90.700000</td>\n",
       "      <td>54.800000</td>\n",
       "      <td>84.000000</td>\n",
       "      <td>35.500000</td>\n",
       "      <td>64.500000</td>\n",
       "      <td>44.800000</td>\n",
       "      <td>14.500000</td>\n",
       "      <td>25.000000</td>\n",
       "      <td>30.500000</td>\n",
       "    </tr>\n",
       "    <tr>\n",
       "      <th>50%</th>\n",
       "      <td>59.000000</td>\n",
       "      <td>4.000000</td>\n",
       "      <td>3.000000</td>\n",
       "      <td>93.200000</td>\n",
       "      <td>56.300000</td>\n",
       "      <td>86.000000</td>\n",
       "      <td>36.500000</td>\n",
       "      <td>66.900000</td>\n",
       "      <td>46.400000</td>\n",
       "      <td>15.000000</td>\n",
       "      <td>27.000000</td>\n",
       "      <td>32.000000</td>\n",
       "    </tr>\n",
       "    <tr>\n",
       "      <th>75%</th>\n",
       "      <td>84.000000</td>\n",
       "      <td>6.000000</td>\n",
       "      <td>5.000000</td>\n",
       "      <td>95.400000</td>\n",
       "      <td>59.000000</td>\n",
       "      <td>89.500000</td>\n",
       "      <td>38.000000</td>\n",
       "      <td>71.500000</td>\n",
       "      <td>51.800000</td>\n",
       "      <td>15.900000</td>\n",
       "      <td>28.000000</td>\n",
       "      <td>35.000000</td>\n",
       "    </tr>\n",
       "    <tr>\n",
       "      <th>max</th>\n",
       "      <td>103.000000</td>\n",
       "      <td>7.000000</td>\n",
       "      <td>8.000000</td>\n",
       "      <td>103.100000</td>\n",
       "      <td>68.600000</td>\n",
       "      <td>96.000000</td>\n",
       "      <td>43.000000</td>\n",
       "      <td>75.000000</td>\n",
       "      <td>56.200000</td>\n",
       "      <td>17.800000</td>\n",
       "      <td>32.000000</td>\n",
       "      <td>38.000000</td>\n",
       "    </tr>\n",
       "  </tbody>\n",
       "</table>\n",
       "</div>"
      ],
      "text/plain": [
       "             case       site        age     hdlngth     skullw   totlngth  \\\n",
       "count   61.000000  61.000000  61.000000   61.000000  61.000000  61.000000   \n",
       "mean    58.901639   4.081967   3.737705   92.922951  57.091803  86.511475   \n",
       "std     28.639544   2.347304   1.861018    4.126354   3.451777   4.339896   \n",
       "min      1.000000   1.000000   1.000000   82.500000  50.000000  76.000000   \n",
       "25%     35.000000   2.000000   2.000000   90.700000  54.800000  84.000000   \n",
       "50%     59.000000   4.000000   3.000000   93.200000  56.300000  86.000000   \n",
       "75%     84.000000   6.000000   5.000000   95.400000  59.000000  89.500000   \n",
       "max    103.000000   7.000000   8.000000  103.100000  68.600000  96.000000   \n",
       "\n",
       "           taill   footlgth   earconch        eye      chest      belly  \n",
       "count  61.000000  61.000000  61.000000  61.000000  61.000000  61.000000  \n",
       "mean   36.942623  68.009836  47.816393  15.211475  26.762295  32.377049  \n",
       "std     2.057706   3.981905   3.994587   1.041169   2.161417   2.642057  \n",
       "min    32.000000  62.000000  41.700000  12.800000  22.000000  27.000000  \n",
       "25%    35.500000  64.500000  44.800000  14.500000  25.000000  30.500000  \n",
       "50%    36.500000  66.900000  46.400000  15.000000  27.000000  32.000000  \n",
       "75%    38.000000  71.500000  51.800000  15.900000  28.000000  35.000000  \n",
       "max    43.000000  75.000000  56.200000  17.800000  32.000000  38.000000  "
      ]
     },
     "execution_count": 110,
     "metadata": {},
     "output_type": "execute_result"
    }
   ],
   "source": [
    "# Let's get the average, median , and standard deviation and derive our insights\n",
    "\n",
    "male.describe()"
   ]
  },
  {
   "cell_type": "code",
   "execution_count": 109,
   "id": "55f9c8ef",
   "metadata": {},
   "outputs": [
    {
     "data": {
      "text/html": [
       "<div>\n",
       "<style scoped>\n",
       "    .dataframe tbody tr th:only-of-type {\n",
       "        vertical-align: middle;\n",
       "    }\n",
       "\n",
       "    .dataframe tbody tr th {\n",
       "        vertical-align: top;\n",
       "    }\n",
       "\n",
       "    .dataframe thead th {\n",
       "        text-align: right;\n",
       "    }\n",
       "</style>\n",
       "<table border=\"1\" class=\"dataframe\">\n",
       "  <thead>\n",
       "    <tr style=\"text-align: right;\">\n",
       "      <th></th>\n",
       "      <th>case</th>\n",
       "      <th>site</th>\n",
       "      <th>Pop</th>\n",
       "      <th>sex</th>\n",
       "      <th>age</th>\n",
       "      <th>hdlngth</th>\n",
       "      <th>skullw</th>\n",
       "      <th>totlngth</th>\n",
       "      <th>taill</th>\n",
       "      <th>footlgth</th>\n",
       "      <th>earconch</th>\n",
       "      <th>eye</th>\n",
       "      <th>chest</th>\n",
       "      <th>belly</th>\n",
       "    </tr>\n",
       "  </thead>\n",
       "  <tbody>\n",
       "    <tr>\n",
       "      <th>1</th>\n",
       "      <td>2</td>\n",
       "      <td>1</td>\n",
       "      <td>Vic</td>\n",
       "      <td>f</td>\n",
       "      <td>6.0</td>\n",
       "      <td>92.5</td>\n",
       "      <td>57.6</td>\n",
       "      <td>91.5</td>\n",
       "      <td>36.5</td>\n",
       "      <td>72.5</td>\n",
       "      <td>51.2</td>\n",
       "      <td>16.0</td>\n",
       "      <td>28.5</td>\n",
       "      <td>33.0</td>\n",
       "    </tr>\n",
       "    <tr>\n",
       "      <th>2</th>\n",
       "      <td>3</td>\n",
       "      <td>1</td>\n",
       "      <td>Vic</td>\n",
       "      <td>f</td>\n",
       "      <td>6.0</td>\n",
       "      <td>94.0</td>\n",
       "      <td>60.0</td>\n",
       "      <td>95.5</td>\n",
       "      <td>39.0</td>\n",
       "      <td>75.4</td>\n",
       "      <td>51.9</td>\n",
       "      <td>15.5</td>\n",
       "      <td>30.0</td>\n",
       "      <td>34.0</td>\n",
       "    </tr>\n",
       "    <tr>\n",
       "      <th>3</th>\n",
       "      <td>4</td>\n",
       "      <td>1</td>\n",
       "      <td>Vic</td>\n",
       "      <td>f</td>\n",
       "      <td>6.0</td>\n",
       "      <td>93.2</td>\n",
       "      <td>57.1</td>\n",
       "      <td>92.0</td>\n",
       "      <td>38.0</td>\n",
       "      <td>76.1</td>\n",
       "      <td>52.2</td>\n",
       "      <td>15.2</td>\n",
       "      <td>28.0</td>\n",
       "      <td>34.0</td>\n",
       "    </tr>\n",
       "    <tr>\n",
       "      <th>4</th>\n",
       "      <td>5</td>\n",
       "      <td>1</td>\n",
       "      <td>Vic</td>\n",
       "      <td>f</td>\n",
       "      <td>2.0</td>\n",
       "      <td>91.5</td>\n",
       "      <td>56.3</td>\n",
       "      <td>85.5</td>\n",
       "      <td>36.0</td>\n",
       "      <td>71.0</td>\n",
       "      <td>53.2</td>\n",
       "      <td>15.1</td>\n",
       "      <td>28.5</td>\n",
       "      <td>33.0</td>\n",
       "    </tr>\n",
       "    <tr>\n",
       "      <th>5</th>\n",
       "      <td>6</td>\n",
       "      <td>1</td>\n",
       "      <td>Vic</td>\n",
       "      <td>f</td>\n",
       "      <td>1.0</td>\n",
       "      <td>93.1</td>\n",
       "      <td>54.8</td>\n",
       "      <td>90.5</td>\n",
       "      <td>35.5</td>\n",
       "      <td>73.2</td>\n",
       "      <td>53.6</td>\n",
       "      <td>14.2</td>\n",
       "      <td>30.0</td>\n",
       "      <td>32.0</td>\n",
       "    </tr>\n",
       "  </tbody>\n",
       "</table>\n",
       "</div>"
      ],
      "text/plain": [
       "   case  site  Pop sex  age  hdlngth  skullw  totlngth  taill  footlgth  \\\n",
       "1     2     1  Vic   f  6.0     92.5    57.6      91.5   36.5      72.5   \n",
       "2     3     1  Vic   f  6.0     94.0    60.0      95.5   39.0      75.4   \n",
       "3     4     1  Vic   f  6.0     93.2    57.1      92.0   38.0      76.1   \n",
       "4     5     1  Vic   f  2.0     91.5    56.3      85.5   36.0      71.0   \n",
       "5     6     1  Vic   f  1.0     93.1    54.8      90.5   35.5      73.2   \n",
       "\n",
       "   earconch   eye  chest  belly  \n",
       "1      51.2  16.0   28.5   33.0  \n",
       "2      51.9  15.5   30.0   34.0  \n",
       "3      52.2  15.2   28.0   34.0  \n",
       "4      53.2  15.1   28.5   33.0  \n",
       "5      53.6  14.2   30.0   32.0  "
      ]
     },
     "execution_count": 109,
     "metadata": {},
     "output_type": "execute_result"
    }
   ],
   "source": [
    "female.head()"
   ]
  },
  {
   "cell_type": "code",
   "execution_count": 111,
   "id": "0b789957",
   "metadata": {},
   "outputs": [
    {
     "data": {
      "text/html": [
       "<div>\n",
       "<style scoped>\n",
       "    .dataframe tbody tr th:only-of-type {\n",
       "        vertical-align: middle;\n",
       "    }\n",
       "\n",
       "    .dataframe tbody tr th {\n",
       "        vertical-align: top;\n",
       "    }\n",
       "\n",
       "    .dataframe thead th {\n",
       "        text-align: right;\n",
       "    }\n",
       "</style>\n",
       "<table border=\"1\" class=\"dataframe\">\n",
       "  <thead>\n",
       "    <tr style=\"text-align: right;\">\n",
       "      <th></th>\n",
       "      <th>case</th>\n",
       "      <th>site</th>\n",
       "      <th>age</th>\n",
       "      <th>hdlngth</th>\n",
       "      <th>skullw</th>\n",
       "      <th>totlngth</th>\n",
       "      <th>taill</th>\n",
       "      <th>footlgth</th>\n",
       "      <th>earconch</th>\n",
       "      <th>eye</th>\n",
       "      <th>chest</th>\n",
       "      <th>belly</th>\n",
       "    </tr>\n",
       "  </thead>\n",
       "  <tbody>\n",
       "    <tr>\n",
       "      <th>count</th>\n",
       "      <td>43.000000</td>\n",
       "      <td>43.000000</td>\n",
       "      <td>43.000000</td>\n",
       "      <td>43.000000</td>\n",
       "      <td>43.000000</td>\n",
       "      <td>43.000000</td>\n",
       "      <td>43.000000</td>\n",
       "      <td>43.000000</td>\n",
       "      <td>43.000000</td>\n",
       "      <td>43.000000</td>\n",
       "      <td>43.000000</td>\n",
       "      <td>43.000000</td>\n",
       "    </tr>\n",
       "    <tr>\n",
       "      <th>mean</th>\n",
       "      <td>43.418605</td>\n",
       "      <td>2.976744</td>\n",
       "      <td>3.976744</td>\n",
       "      <td>92.148837</td>\n",
       "      <td>56.588372</td>\n",
       "      <td>87.906977</td>\n",
       "      <td>37.104651</td>\n",
       "      <td>69.096726</td>\n",
       "      <td>48.576744</td>\n",
       "      <td>14.811628</td>\n",
       "      <td>27.337209</td>\n",
       "      <td>32.883721</td>\n",
       "    </tr>\n",
       "    <tr>\n",
       "      <th>std</th>\n",
       "      <td>30.264888</td>\n",
       "      <td>2.219914</td>\n",
       "      <td>1.945549</td>\n",
       "      <td>2.574913</td>\n",
       "      <td>2.568788</td>\n",
       "      <td>4.182241</td>\n",
       "      <td>1.830815</td>\n",
       "      <td>4.853521</td>\n",
       "      <td>4.274444</td>\n",
       "      <td>1.030074</td>\n",
       "      <td>1.841069</td>\n",
       "      <td>2.929402</td>\n",
       "    </tr>\n",
       "    <tr>\n",
       "      <th>min</th>\n",
       "      <td>2.000000</td>\n",
       "      <td>1.000000</td>\n",
       "      <td>1.000000</td>\n",
       "      <td>84.700000</td>\n",
       "      <td>51.500000</td>\n",
       "      <td>75.000000</td>\n",
       "      <td>32.000000</td>\n",
       "      <td>60.300000</td>\n",
       "      <td>40.300000</td>\n",
       "      <td>13.000000</td>\n",
       "      <td>23.000000</td>\n",
       "      <td>25.000000</td>\n",
       "    </tr>\n",
       "    <tr>\n",
       "      <th>25%</th>\n",
       "      <td>18.000000</td>\n",
       "      <td>1.000000</td>\n",
       "      <td>3.000000</td>\n",
       "      <td>90.750000</td>\n",
       "      <td>55.200000</td>\n",
       "      <td>85.250000</td>\n",
       "      <td>36.000000</td>\n",
       "      <td>64.900000</td>\n",
       "      <td>44.650000</td>\n",
       "      <td>14.100000</td>\n",
       "      <td>26.000000</td>\n",
       "      <td>31.250000</td>\n",
       "    </tr>\n",
       "    <tr>\n",
       "      <th>50%</th>\n",
       "      <td>40.000000</td>\n",
       "      <td>2.000000</td>\n",
       "      <td>4.000000</td>\n",
       "      <td>92.500000</td>\n",
       "      <td>56.400000</td>\n",
       "      <td>88.500000</td>\n",
       "      <td>37.500000</td>\n",
       "      <td>70.300000</td>\n",
       "      <td>50.800000</td>\n",
       "      <td>14.800000</td>\n",
       "      <td>28.000000</td>\n",
       "      <td>33.000000</td>\n",
       "    </tr>\n",
       "    <tr>\n",
       "      <th>75%</th>\n",
       "      <td>64.500000</td>\n",
       "      <td>5.000000</td>\n",
       "      <td>5.000000</td>\n",
       "      <td>93.800000</td>\n",
       "      <td>57.650000</td>\n",
       "      <td>90.500000</td>\n",
       "      <td>38.250000</td>\n",
       "      <td>72.800000</td>\n",
       "      <td>52.300000</td>\n",
       "      <td>15.450000</td>\n",
       "      <td>28.500000</td>\n",
       "      <td>34.000000</td>\n",
       "    </tr>\n",
       "    <tr>\n",
       "      <th>max</th>\n",
       "      <td>104.000000</td>\n",
       "      <td>7.000000</td>\n",
       "      <td>9.000000</td>\n",
       "      <td>96.900000</td>\n",
       "      <td>67.700000</td>\n",
       "      <td>96.500000</td>\n",
       "      <td>41.000000</td>\n",
       "      <td>77.900000</td>\n",
       "      <td>53.900000</td>\n",
       "      <td>17.400000</td>\n",
       "      <td>31.000000</td>\n",
       "      <td>40.000000</td>\n",
       "    </tr>\n",
       "  </tbody>\n",
       "</table>\n",
       "</div>"
      ],
      "text/plain": [
       "             case       site        age    hdlngth     skullw   totlngth  \\\n",
       "count   43.000000  43.000000  43.000000  43.000000  43.000000  43.000000   \n",
       "mean    43.418605   2.976744   3.976744  92.148837  56.588372  87.906977   \n",
       "std     30.264888   2.219914   1.945549   2.574913   2.568788   4.182241   \n",
       "min      2.000000   1.000000   1.000000  84.700000  51.500000  75.000000   \n",
       "25%     18.000000   1.000000   3.000000  90.750000  55.200000  85.250000   \n",
       "50%     40.000000   2.000000   4.000000  92.500000  56.400000  88.500000   \n",
       "75%     64.500000   5.000000   5.000000  93.800000  57.650000  90.500000   \n",
       "max    104.000000   7.000000   9.000000  96.900000  67.700000  96.500000   \n",
       "\n",
       "           taill   footlgth   earconch        eye      chest      belly  \n",
       "count  43.000000  43.000000  43.000000  43.000000  43.000000  43.000000  \n",
       "mean   37.104651  69.096726  48.576744  14.811628  27.337209  32.883721  \n",
       "std     1.830815   4.853521   4.274444   1.030074   1.841069   2.929402  \n",
       "min    32.000000  60.300000  40.300000  13.000000  23.000000  25.000000  \n",
       "25%    36.000000  64.900000  44.650000  14.100000  26.000000  31.250000  \n",
       "50%    37.500000  70.300000  50.800000  14.800000  28.000000  33.000000  \n",
       "75%    38.250000  72.800000  52.300000  15.450000  28.500000  34.000000  \n",
       "max    41.000000  77.900000  53.900000  17.400000  31.000000  40.000000  "
      ]
     },
     "execution_count": 111,
     "metadata": {},
     "output_type": "execute_result"
    }
   ],
   "source": [
    "female.describe()"
   ]
  },
  {
   "cell_type": "markdown",
   "id": "d0621d41",
   "metadata": {},
   "source": []
  },
  {
   "cell_type": "markdown",
   "id": "373ca1d7",
   "metadata": {},
   "source": [
    "**Male and Female Possums age Statistical Comparison**\n",
    "\n",
    "| Metric      | age of male  | age of female   | Difference Means                       |\n",
    "|-------------|--------------|---------------|---------------------------------------|\n",
    "| **Average** | 3.737705  | 3.976744 | Female group has a bigger average than the male,this shows that female possums tend to be slightly older than male  |\n",
    "| **std**  | 1.861018 | 1.945549 | There is a slighlty greater variation from the mean by the female possums              |\n",
    "| **min**   | \t1.000000| 1.000000 | Same minimum value   \n",
    "| **max**   | \t8.000000| 9.000000 | Female possums have a higher age on max  \n",
    "| **25%**   | \t2.000000| 3.000000 | 25% of the ages fall under this\n",
    "| **50% or Median**   | \t3.000000|4.000000 |This is the median for the ages, 50% of ages fall under this and 50% are more \n",
    "| **75%**   | \t3.0000000| 5.000000 | 75% of the ages are below this and 25% are above this age         |\n",
    "\n"
   ]
  },
  {
   "cell_type": "code",
   "execution_count": null,
   "id": "1ed5dae3",
   "metadata": {},
   "outputs": [
    {
     "data": {
      "image/png": "[encoded data removed]",
      "text/plain": [
       "<Figure size 1200x800 with 1 Axes>"
      ]
     },
     "metadata": {},
     "output_type": "display_data"
    }
   ],
   "source": [
    "# Let's visualize this\n",
    "\n",
    "plt.figure(figsize=(12, 8))\n",
    "sns.boxplot(data=possums, x='sex', y='age',color='green')\n",
    "\n",
    "plt.title('Age Distribution of Possums by Sex')\n",
    "plt.xlabel('Sex')\n",
    "plt.ylabel('Age')\n",
    "plt.show()\n"
   ]
  },
  {
   "cell_type": "markdown",
   "id": "5604b6de",
   "metadata": {},
   "source": [
    "**Male and Female Possums tail Statistical Comparison**\n",
    "\n",
    "| Metric      | tail of male  | tail of female   | Difference Means                       |\n",
    "|-------------|--------------|---------------|---------------------------------------|\n",
    "| **Average** | 36.942623  |\t37.104651 | Female group has a bigger average than the male,this shows that female possums tails tend to be slightly longer than male tails  |\n",
    "| **std**  | 2.057706 |1.830815\t | There is a slighlty greater variation from the mean by the male possums              |\n",
    "| **min**   | \t32.000000| \t32.000000 | Same minimum value   \n",
    "| **max**   | \t\t43.000000| 41.00000 | Male possums have  longer tails on max  \n",
    "| **25%**   | \t\t35.500000| 36.000000 | 25% of the tails fall under this\n",
    "| **50% or Median**   | \t\t36.500000|37.500000 |This is the median for the tails, 50% of tails fall under this and 50% are more \n",
    "| **75%**   | \t38.000000| 38.250000 | 75% of the tails are below this and 25% are above this          |"
   ]
  },
  {
   "cell_type": "code",
   "execution_count": 149,
   "id": "1fe2346c",
   "metadata": {},
   "outputs": [],
   "source": [
    "# # Let's visualize this using histogram\n",
    "\n",
    "# sns.histplot(data=possums,x='age',hue='sex',bins = 10,kde=True,alpha = 0.05)"
   ]
  },
  {
   "cell_type": "markdown",
   "id": "f524da90",
   "metadata": {},
   "source": [
    "#### **Measures of Center**"
   ]
  },
  {
   "cell_type": "code",
   "execution_count": 99,
   "id": "bf4bfd32",
   "metadata": {},
   "outputs": [
    {
     "name": "stdout",
     "output_type": "stream",
     "text": [
      "Age of possums:\n",
      "    Mean: 3.8 years\n",
      "    Mode: 0    3.0\n",
      "Name: age, dtype: float64 years\n",
      "    Median: 3.0 years\n",
      "    Standard Deviation: 1.9 years\n"
     ]
    }
   ],
   "source": [
    "\n",
    "print(\"Age of possums:\")\n",
    "print(f\"    Mean: {possums['age'].mean():.1f} years\")\n",
    "print(f\"    Mode: {possums['age'].mode()} years\")\n",
    "print(f\"    Median: {possums['age'].median():.1f} years\")\n",
    "print(f\"    Standard Deviation: {possums['age'].std():.1f} years\")"
   ]
  },
  {
   "cell_type": "markdown",
   "id": "2d8ad43f",
   "metadata": {},
   "source": [
    "From the above:\n",
    "\n",
    "Age of possums:\n",
    "\n",
    "Mean: 3.8 years\n",
    "\n",
    "Mode: 3 years\n",
    "\n",
    "Median: 3.0 years\n",
    "\n",
    "Standard Deviation: 1.9 years\n",
    "\n",
    "\n",
    "\n",
    "#### This shows that the average age of possums is 3.8 years. The median which is 3 years shows the typical age of the possums, the age 3 which is the mode is the age with highest occurence. The standard deviation of 1.9 shows very little variation. Which shows that ages of the possums are close to that of the mean or the average ."
   ]
  },
  {
   "cell_type": "code",
   "execution_count": 114,
   "id": "f92e73cc",
   "metadata": {},
   "outputs": [
    {
     "data": {
      "image/png": "[encoded data removed]",
      "text/plain": [
       "<Figure size 1500x1000 with 1 Axes>"
      ]
     },
     "metadata": {},
     "output_type": "display_data"
    }
   ],
   "source": [
    "\n",
    "fig, ax = plt.subplots(figsize=(15, 10))\n",
    "ax.boxplot(possums['age'].dropna())  \n",
    "ax.set_title('Boxplot of Possum Ages')\n",
    "ax.set_ylabel('Age')\n",
    "ax.grid(True)\n",
    "\n",
    "plt.show()\n"
   ]
  },
  {
   "cell_type": "markdown",
   "id": "9a6050c4",
   "metadata": {},
   "source": [
    "### **Measures of Spread**"
   ]
  },
  {
   "cell_type": "code",
   "execution_count": 154,
   "id": "d0ea99bc",
   "metadata": {},
   "outputs": [
    {
     "name": "stdout",
     "output_type": "stream",
     "text": [
      "4\n"
     ]
    }
   ],
   "source": [
    "# Let's calculate measures of spread of the age\n",
    "# Mean\n",
    "\n",
    "mean_value = possums['age'].mean()\n",
    "\n",
    "print(round(mean_value))\n"
   ]
  },
  {
   "cell_type": "code",
   "execution_count": 155,
   "id": "be1e5904",
   "metadata": {},
   "outputs": [
    {
     "name": "stdout",
     "output_type": "stream",
     "text": [
      "4\n"
     ]
    }
   ],
   "source": [
    "# Variance\n",
    "\n",
    "variance_value = possums['age'].var(ddof=0)\n",
    "print(round(variance_value))"
   ]
  },
  {
   "cell_type": "code",
   "execution_count": 156,
   "id": "57bff15d",
   "metadata": {},
   "outputs": [
    {
     "name": "stdout",
     "output_type": "stream",
     "text": [
      "2\n"
     ]
    }
   ],
   "source": [
    "# Standard Deviation\n",
    "std_dev_value = possums['age'].std(ddof=0)\n",
    "print(round(std_dev_value))"
   ]
  },
  {
   "cell_type": "code",
   "execution_count": 157,
   "id": "dc32b8c4",
   "metadata": {},
   "outputs": [
    {
     "name": "stdout",
     "output_type": "stream",
     "text": [
      "Coefficient of Variation (CV): 0.49045384232482503\n",
      "Relative Spread (% of mean): 49 %\n"
     ]
    }
   ],
   "source": [
    "# Relative spread (Coefficient of Variation)\n",
    "\n",
    "cv = std_dev_value / mean_value\n",
    "cv_percent = cv * 100\n",
    "\n",
    "\n",
    "\n",
    "\n",
    "print(\"Coefficient of Variation (CV):\", cv)\n",
    "print(\"Relative Spread (% of mean):\", round(cv_percent), \"%\")\n"
   ]
  },
  {
   "cell_type": "markdown",
   "id": "ca7b95c0",
   "metadata": {},
   "source": [
    "### Interpretation\n",
    "\n",
    "This means that the standard deviation is 49% of the mean. This indicates a noticeaable variation in ages with respect to the average age of the possums."
   ]
  },
  {
   "cell_type": "markdown",
   "id": "504f9e9a",
   "metadata": {},
   "source": [
    "**Emperical Interpretation**\n",
    "\n",
    "k = number of standard deviation\n",
    "\n",
    "1sd = 2\n",
    "\n",
    "2sd = 4\n",
    "\n",
    "3sd = 8\n",
    "\n",
    "\n",
    "\n",
    "\n",
    "| % of dataset | No. of SD| Min (Mean − SD×k) | Max (Mean + SD×k) | Interpretation                          |\n",
    "| ------------ | ---------| ----------------- | ----------------- | ----------------------------------------|\n",
    "| \\~68%        | 1 s.d    | 2                | 6               | Most ages fall here                 |\n",
    "| \\~95%        | 2 s.d    | -4                |   12              | Few ages are outside this range         |\n",
    "| \\~99.7%      | 3 s.d    | -20                | 28              |Almost every possums is within this range     |"
   ]
  },
  {
   "cell_type": "markdown",
   "id": "69d27a0b",
   "metadata": {},
   "source": [
    "#### **Percentiles, Interquartile range (IQR), and Outlier detection**"
   ]
  },
  {
   "cell_type": "code",
   "execution_count": 163,
   "id": "b852e6c8",
   "metadata": {},
   "outputs": [
    {
     "name": "stdout",
     "output_type": "stream",
     "text": [
      "Q1 - 2.75\n",
      "Q2 - 3.0\n",
      "Q3 - 5.0\n"
     ]
    }
   ],
   "source": [
    "age = possums['age']\n",
    "\n",
    "# Quartiles\n",
    "\n",
    "q1= np.quantile(age, 0.25)\n",
    "q2 = np.quantile(age, 0.50)\n",
    "q3 = np.quantile(age, 0.75)\n",
    "\n",
    "print(f\"Q1 - {q1}\")\n",
    "print(f\"Q2 - {q2}\")\n",
    "print(f\"Q3 - {q3}\")"
   ]
  },
  {
   "cell_type": "markdown",
   "id": "62061c9e",
   "metadata": {},
   "source": [
    "**Interpretation**\n",
    "**Q1(0.25 quantile or 25% percentile)**\n",
    "\n",
    "This shows that 25% of possums ages fall below 2.75, and 75% of their ages is above 2.75\n",
    "\n",
    "\n",
    "**Q2(0.50 quantile or 50% percentile)**\n",
    "\n",
    "This shows the median of the possums ages. 50% of the ages are below this and 50% are above this.\n",
    "\n",
    "\n",
    "\n",
    "**Q1(0.75 quantile or 75% percentile)**\n",
    "\n",
    "This shows that 75% of possums ages fall below 5.0, and 25% of their ages is above 5.0.\n",
    "\n"
   ]
  },
  {
   "cell_type": "markdown",
   "id": "47b2246e",
   "metadata": {},
   "source": [
    "**Interquartile Range**\n"
   ]
  },
  {
   "cell_type": "code",
   "execution_count": 164,
   "id": "50a3766e",
   "metadata": {},
   "outputs": [
    {
     "name": "stdout",
     "output_type": "stream",
     "text": [
      "IQR - 2.25\n"
     ]
    }
   ],
   "source": [
    "IQR = q3 - q1\n",
    "print(f\"IQR - {IQR}\")"
   ]
  },
  {
   "cell_type": "markdown",
   "id": "2f69e459",
   "metadata": {},
   "source": [
    "**OUTLIERS**"
   ]
  },
  {
   "cell_type": "code",
   "execution_count": 165,
   "id": "282ed807",
   "metadata": {},
   "outputs": [
    {
     "name": "stdout",
     "output_type": "stream",
     "text": [
      "Lower bound - -0.625\n",
      "Upper bound - 8.375\n"
     ]
    }
   ],
   "source": [
    "# Outliers thresholds \n",
    "\n",
    "lower_bounds = q1 - 1.5 * IQR\n",
    "higher_bounds = q3 + 1.5 * IQR\n",
    "\n",
    "\n",
    "print(f\"Lower bound - {lower_bounds}\")\n",
    "print(f\"Upper bound - {higher_bounds}\")"
   ]
  },
  {
   "cell_type": "markdown",
   "id": "7ca88514",
   "metadata": {},
   "source": [
    "**Interpretation**\n",
    "\n",
    "This means that any values below -0.625 or any values above 8.375 are **Outliers**"
   ]
  },
  {
   "cell_type": "markdown",
   "id": "956fbfbc",
   "metadata": {},
   "source": [
    "**Let's detect the age outliers**\n"
   ]
  },
  {
   "cell_type": "code",
   "execution_count": 173,
   "id": "05ce2b07",
   "metadata": {},
   "outputs": [
    {
     "data": {
      "text/plain": [
       "8     9.0\n",
       "10    9.0\n",
       "Name: age, dtype: float64"
      ]
     },
     "execution_count": 173,
     "metadata": {},
     "output_type": "execute_result"
    }
   ],
   "source": [
    "outliers = age[(age < lower_bounds) | (age > higher_bounds)]\n",
    "outliers\n",
    "# print(f\"List of outlier ages : {outliers}\")"
   ]
  },
  {
   "cell_type": "markdown",
   "id": "7d47995f",
   "metadata": {},
   "source": [
    "This shows there two outliers in our age . 9 years and 9 years are our outliers."
   ]
  },
  {
   "cell_type": "code",
   "execution_count": 177,
   "id": "1b6ac4e4",
   "metadata": {},
   "outputs": [
    {
     "data": {
      "image/png": "[encoded data removed]",
      "text/plain": [
       "<Figure size 1000x600 with 1 Axes>"
      ]
     },
     "metadata": {},
     "output_type": "display_data"
    },
    {
     "name": "stdout",
     "output_type": "stream",
     "text": [
      "Q1 (25th percentile): 2.75\n",
      "Q2 (Median, 50th percentile): 3.00\n",
      "Q3 (75th percentile): 5.00\n",
      "IQR (Q3 - Q1): 2.25\n",
      "Lower Bound for Outliers: -0.62\n",
      "Upper Bound for Outliers: 8.38\n",
      "Outliers Detected: [9.0, 9.0]\n"
     ]
    }
   ],
   "source": [
    "\n",
    "plt.figure(figsize=(10, 6))\n",
    "box = plt.boxplot(age, vert=False, patch_artist=True,\n",
    "                  boxprops=dict(facecolor=\"skyblue\", color=\"black\"),\n",
    "                  medianprops=dict(color=\"red\", linewidth=2),\n",
    "                  whiskerprops=dict(color=\"black\"),\n",
    "                  capprops=dict(color=\"black\"),\n",
    "                  flierprops=dict(markerfacecolor=\"orange\", marker='o', markersize=8, linestyle=\"none\"))\n",
    "\n",
    "# Annotate Quartiles\n",
    "plt.axvline(q1, color=\"blue\", linestyle=\"--\", label=f\"Q1 = {q1:.1f}\")\n",
    "plt.axvline(q2, color=\"red\", linestyle=\"--\", label=f\"Median (Q2) = {q2:.1f}\")\n",
    "plt.axvline(q3, color=\"green\", linestyle=\"--\", label=f\"Q3 = {q3:.1f}\")\n",
    "\n",
    "# Annotate outliers if present\n",
    "for outlier in outliers:\n",
    "    plt.text(outlier, 1.05, f\"{outlier:.0f}\", ha=\"center\", va=\"bottom\", color=\"darkorange\", fontsize=9)\n",
    "\n",
    "# Titles and labels\n",
    "plt.title(\"Boxplot of Student Scores with Quartiles & Outliers\", fontsize=14)\n",
    "plt.xlabel(\"Score (%)\")\n",
    "plt.legend()\n",
    "\n",
    "plt.show()\n",
    "\n",
    "# Print results\n",
    "print(f\"Q1 (25th percentile): {q1:.2f}\")\n",
    "print(f\"Q2 (Median, 50th percentile): {q2:.2f}\")\n",
    "print(f\"Q3 (75th percentile): {q3:.2f}\")\n",
    "print(f\"IQR (Q3 - Q1): {IQR:.2f}\")\n",
    "print(f\"Lower Bound for Outliers: {lower_bounds:.2f}\")\n",
    "print(f\"Upper Bound for Outliers: {higher_bounds:.2f}\")\n",
    "print(f\"Outliers Detected: {list(outliers)}\")\n"
   ]
  },
  {
   "cell_type": "markdown",
   "id": "4f9eaef1",
   "metadata": {},
   "source": [
    "**Skewness**\n",
    "\n"
   ]
  },
  {
   "cell_type": "code",
   "execution_count": 189,
   "id": "2ca60cb3",
   "metadata": {},
   "outputs": [
    {
     "name": "stdout",
     "output_type": "stream",
     "text": [
      "Skewness: 0.5311656388310628\n",
      "The distribution is positively skewed\n"
     ]
    }
   ],
   "source": [
    "from scipy.stats import norm, skew, kurtosis\n",
    "\n",
    "skewness = skew(age)\n",
    "print(f\"Skewness: {skewness}\")\n",
    "\n",
    "# Interpretation\n",
    "\n",
    "if skewness > 0 :\n",
    "    print(\"The distribution is positively skewed\")\n",
    "elif skewness < 0:\n",
    "    print(\"The distribution is negatively skewed\")\n",
    "\n",
    "else:\n",
    "    print(\"The distribution is symetric\")"
   ]
  }
 ],
 "metadata": {
  "kernelspec": {
   "display_name": "Python 3",
   "language": "python",
   "name": "python3"
  },
  "language_info": {
   "codemirror_mode": {
    "name": "ipython",
    "version": 3
   },
   "file_extension": ".py",
   "mimetype": "text/x-python",
   "name": "python",
   "nbconvert_exporter": "python",
   "pygments_lexer": "ipython3",
   "version": "3.13.7"
  }
 },
 "nbformat": 4,
 "nbformat_minor": 5
}
