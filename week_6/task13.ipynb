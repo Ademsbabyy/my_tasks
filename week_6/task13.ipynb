{
 "cells": [
  {
   "cell_type": "markdown",
   "id": "8f3b1e56",
   "metadata": {},
   "source": [
    "### Numpy Tasks"
   ]
  },
  {
   "cell_type": "markdown",
   "id": "0723a79d",
   "metadata": {},
   "source": [
    "#### Task 1"
   ]
  },
  {
   "cell_type": "code",
   "execution_count": 1,
   "id": "d143607d",
   "metadata": {},
   "outputs": [
    {
     "name": "stdout",
     "output_type": "stream",
     "text": [
      "[[50 31 46 41  4 32]\n",
      " [47 17  2 12  4 28]\n",
      " [20  8 22 30 10 19]\n",
      " [18 46 40 27  6 11]\n",
      " [39 20 18 30 21 37]\n",
      " [24 27 41 47 40 13]]\n"
     ]
    }
   ],
   "source": [
    "# 1. Create a 6x6 Numpy array with random integers between 1 and 50.\n",
    "\n",
    "# Import all necessary pakages\n",
    "\n",
    "import numpy as np\n",
    "import matplotlib.pyplot as plt\n",
    "\n",
    "\n",
    "arr = np.random.randint(1,51,(6,6))\n",
    "\n",
    "# Display the array\n",
    "print(arr)"
   ]
  },
  {
   "cell_type": "markdown",
   "id": "750cf0f4",
   "metadata": {},
   "source": [
    "#### Task 2"
   ]
  },
  {
   "cell_type": "code",
   "execution_count": 17,
   "id": "b71a28f1",
   "metadata": {},
   "outputs": [
    {
     "name": "stdout",
     "output_type": "stream",
     "text": [
      "First two rows:\n",
      " [[39 44 30  8 42  6]\n",
      " [46  3  1  2 44 34]]\n",
      "Last three columns:\n",
      " [[ 8 42  6]\n",
      " [ 2 44 34]\n",
      " [49 49  9]\n",
      " [47 25 48]\n",
      " [17 45  2]\n",
      " [30 49  9]]\n",
      "[44 30  8 42  6 46  2 44 34 24 26  4 48 12  2 48 30]\n"
     ]
    }
   ],
   "source": [
    "# Extract the first two rows from Task 1.\n",
    "\n",
    "arr_2rows = arr[(0,1),:]\n",
    "print(f\"First two rows:\\n {arr_2rows}\")\n",
    "\n",
    "\n",
    "# Extract the last three columns.\n",
    "\n",
    "arr_3cols = arr[:,(3,4,5)]\n",
    "print(f\"Last three columns:\\n {arr_3cols}\")\n",
    "\n",
    "\n",
    "# Extract all even numbers\n",
    "\n",
    "# # arr_evens = arr[(arr/2)]\n",
    "# evens1 = np.array([0])\n",
    "# print(arr[evens1])\n",
    "# evens2 = arr[1,1] \n",
    "# print(evens2)\n",
    "# evens3 = arr[2,0] , arr[2,2], arr[2,3]\n",
    "# print(evens3)\n",
    "\n",
    "\n",
    "even_numbers = arr[arr % 2 == 0]\n",
    "print(even_numbers)"
   ]
  },
  {
   "cell_type": "markdown",
   "id": "8dbb9b99",
   "metadata": {},
   "source": [
    "#### Task 3"
   ]
  },
  {
   "cell_type": "code",
   "execution_count": 16,
   "id": "88ed1a5e",
   "metadata": {},
   "outputs": [
    {
     "name": "stdout",
     "output_type": "stream",
     "text": [
      "[[[39 44 30  8 42  6]\n",
      "  [46  3  1  2 44 34]]\n",
      "\n",
      " [[11 24 37 49 49  9]\n",
      "  [19 26  4 47 25 48]]\n",
      "\n",
      " [[12 31 49 17 45  2]\n",
      "  [48 45 33 30 49  9]]]\n",
      "[39 44 30  8 42  6 46  3  1  2 44 34 11 24 37 49 49  9 19 26  4 47 25 48\n",
      " 12 31 49 17 45  2 48 45 33 30 49  9]\n"
     ]
    }
   ],
   "source": [
    "# Reshape the array into 3D (3,2,6) array.\n",
    "\n",
    "reshaped_array = arr.reshape(3,2,6)\n",
    "print(reshaped_array)\n",
    "\n",
    "# Flatten the reshaped array back to 1D\n",
    "\n",
    "flattened_array = reshaped_array.flatten()\n",
    "print(flattened_array)"
   ]
  },
  {
   "cell_type": "markdown",
   "id": "f17af2d7",
   "metadata": {},
   "source": [
    "#### Task 4"
   ]
  },
  {
   "cell_type": "code",
   "execution_count": 14,
   "id": "c99626e6",
   "metadata": {},
   "outputs": [
    {
     "name": "stdout",
     "output_type": "stream",
     "text": [
      "[[1. 0. 0. 0.]\n",
      " [0. 1. 0. 0.]\n",
      " [0. 0. 1. 0.]\n",
      " [0. 0. 0. 1.]]\n",
      "[10 20 30 40]\n",
      "[[10  0  0  0]\n",
      " [ 0 20  0  0]\n",
      " [ 0  0 30  0]\n",
      " [ 0  0  0 40]]\n"
     ]
    }
   ],
   "source": [
    "# Generate a 4 x 4 identity matrix\n",
    "\n",
    "identity_matrix = np.eye(4)\n",
    "print(identity_matrix)\n",
    "\n",
    "# Replace the diagonal with numbers from 10 to 40, with a step of 10.\n",
    "diag = np.arange(10,50,10)\n",
    "print(diag)\n",
    "\n",
    "diagonal_matrix = np.diag(diag)\n",
    "print(diagonal_matrix)"
   ]
  },
  {
   "cell_type": "markdown",
   "id": "f1575a99",
   "metadata": {},
   "source": [
    "#### Task 5"
   ]
  },
  {
   "cell_type": "code",
   "execution_count": 9,
   "id": "138979c2",
   "metadata": {},
   "outputs": [
    {
     "name": "stdout",
     "output_type": "stream",
     "text": [
      "[[ 5  1  8  4]\n",
      " [ 9 10  9  7]\n",
      " [ 3  3  4  8]]\n",
      "[[1 1 7]\n",
      " [1 9 6]\n",
      " [8 6 2]\n",
      " [2 2 8]]\n",
      "First array * Second array:\n",
      " [[ 78  70  89]\n",
      " [105 167 197]\n",
      " [ 54  70 111]]\n"
     ]
    }
   ],
   "source": [
    "# Perform matrix multiplication\n",
    "# Between 3x4 matrix of random integers (1-10) and a 4x3 matrix of random integers (1-10)\n",
    "\n",
    "array1 = np.random.randint(1,11,(3,4))\n",
    "# array1new = np.array(array1)\n",
    "print(array1)\n",
    "# print(array1new)\n",
    "\n",
    "array2 = np.random.randint(1,11,(4,3))\n",
    "# array2new = np.array(array2)\n",
    "print(array2)\n",
    "# print(array2new)\n",
    "# reshaped = array2new.reshape(3,4)\n",
    "\n",
    "\n",
    "# C[0][0] = (6*9 + 4 *9  )\n",
    "\n",
    "# print(C)\n",
    "\n",
    "\n",
    "# ?\n",
    "\n",
    "arrays_multiplied = np.dot(array1 , array2)\n",
    "print(f\"First array * Second array:\\n\",arrays_multiplied)"
   ]
  },
  {
   "cell_type": "markdown",
   "id": "02ff0dfa",
   "metadata": {},
   "source": [
    "#### Task 6"
   ]
  },
  {
   "cell_type": "code",
   "execution_count": 2,
   "id": "3d998c17",
   "metadata": {},
   "outputs": [
    {
     "data": {
      "text/plain": [
       "array([[-1,  4, -1],\n",
       "       [16, -1, 36]])"
      ]
     },
     "execution_count": 2,
     "metadata": {},
     "output_type": "execute_result"
    }
   ],
   "source": [
    "# Create a function that takes a 2D Numpy array\n",
    "def transform_array(arr99):\n",
    "    square_array = np.where(arr99 % 2 == 0 , arr99 ** 2, arr99 )\n",
    "    odd_array = np.where(square_array % 2 != 0, -1 , square_array)\n",
    "    return odd_array\n",
    "\n",
    "test_arr = np.array([[1,2,3],\n",
    "                     [4,5,6]])\n",
    "transform_array(test_arr)\n"
   ]
  },
  {
   "cell_type": "code",
   "execution_count": 15,
   "id": "40097725",
   "metadata": {},
   "outputs": [
    {
     "name": "stdout",
     "output_type": "stream",
     "text": [
      "[ 0.08332081 -0.83152944 -0.78573223  0.25817341]\n"
     ]
    }
   ],
   "source": [
    "array1d = np.random.randn(4)\n",
    "print(array1d)"
   ]
  }
 ],
 "metadata": {
  "kernelspec": {
   "display_name": "Python 3",
   "language": "python",
   "name": "python3"
  },
  "language_info": {
   "codemirror_mode": {
    "name": "ipython",
    "version": 3
   },
   "file_extension": ".py",
   "mimetype": "text/x-python",
   "name": "python",
   "nbconvert_exporter": "python",
   "pygments_lexer": "ipython3",
   "version": "3.13.7"
  }
 },
 "nbformat": 4,
 "nbformat_minor": 5
}
